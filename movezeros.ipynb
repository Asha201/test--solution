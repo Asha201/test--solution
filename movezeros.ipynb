{
 "cells": [
  {
   "cell_type": "code",
   "execution_count": 19,
   "id": "e2ac3a8a",
   "metadata": {},
   "outputs": [
    {
     "name": "stdout",
     "output_type": "stream",
     "text": [
      "Enter the integer input numbers :4 3 0 85 0 2 1 0 6\n",
      "[4, 3, 85, 2, 1, 6, 0, 0, 0]\n"
     ]
    }
   ],
   "source": [
    "#\n",
    "def movezero(arr,n):\n",
    "    count = 0 # count non zero elments\n",
    "    for i in range(n):\n",
    "        if arr[i] != 0:\n",
    "     # count is incremented           \n",
    "            arr[count] = arr[i]\n",
    "            count+=1 \n",
    "            #all non zero elements shifedto front and cout is set\n",
    "    #elements 0 from count to end\n",
    "    while count < n:\n",
    "        arr[count] =0\n",
    "        count+= 1\n",
    "arr = []\n",
    "arr = [int(item)for item in input(\"Enter the integer input numbers :\").split()]\n",
    "n = len(arr)\n",
    "movezero(arr,n)\n",
    "print(arr)"
   ]
  },
  {
   "cell_type": "code",
   "execution_count": null,
   "id": "64815f2e",
   "metadata": {},
   "outputs": [],
   "source": []
  },
  {
   "cell_type": "code",
   "execution_count": null,
   "id": "1393ea9a",
   "metadata": {},
   "outputs": [],
   "source": []
  }
 ],
 "metadata": {
  "kernelspec": {
   "display_name": "Python 3 (ipykernel)",
   "language": "python",
   "name": "python3"
  },
  "language_info": {
   "codemirror_mode": {
    "name": "ipython",
    "version": 3
   },
   "file_extension": ".py",
   "mimetype": "text/x-python",
   "name": "python",
   "nbconvert_exporter": "python",
   "pygments_lexer": "ipython3",
   "version": "3.9.12"
  }
 },
 "nbformat": 4,
 "nbformat_minor": 5
}
