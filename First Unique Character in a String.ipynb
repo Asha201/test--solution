{
 "cells": [
  {
   "cell_type": "code",
   "execution_count": 17,
   "id": "ccb74f20",
   "metadata": {},
   "outputs": [
    {
     "name": "stdout",
     "output_type": "stream",
     "text": [
      "Enter any words : loveleetcode\n",
      "First non-repeating character is 2\n"
     ]
    }
   ],
   "source": [
    "#First Unique Character in a String\n",
    "def FirstNonRepeat(s):\n",
    " \n",
    "    for i in s:\n",
    " \n",
    "        if (s.find(i, (s.find(i)+1))) == -1:\n",
    " \n",
    "            print(\"First non-repeating character is\", s.index(i))\n",
    " \n",
    "            break\n",
    " \n",
    "    return\n",
    " \n",
    " \n",
    "s = input(\"Enter any words : \")\n",
    " \n",
    "FirstNonRepeat(s)\n",
    "#time complexity 0(n^2)"
   ]
  },
  {
   "cell_type": "code",
   "execution_count": null,
   "id": "788675da",
   "metadata": {},
   "outputs": [],
   "source": []
  }
 ],
 "metadata": {
  "kernelspec": {
   "display_name": "Python 3 (ipykernel)",
   "language": "python",
   "name": "python3"
  },
  "language_info": {
   "codemirror_mode": {
    "name": "ipython",
    "version": 3
   },
   "file_extension": ".py",
   "mimetype": "text/x-python",
   "name": "python",
   "nbconvert_exporter": "python",
   "pygments_lexer": "ipython3",
   "version": "3.9.12"
  }
 },
 "nbformat": 4,
 "nbformat_minor": 5
}
