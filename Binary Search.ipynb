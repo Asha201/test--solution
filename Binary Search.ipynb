{
 "cells": [
  {
   "cell_type": "markdown",
   "id": "14cc79c1",
   "metadata": {},
   "source": [
    "Given a non-negative integer x, return the square root of x rounded down to the nearest integer. The returned integer should be non-negative as well. You must not use any built-in exponent function or operator. "
   ]
  },
  {
   "cell_type": "code",
   "execution_count": 1,
   "id": "1b0448c1",
   "metadata": {},
   "outputs": [],
   "source": [
    "def sqrt(x):\n",
    "    # Base cases\n",
    "    if x == 0 or x ==1:\n",
    "        return x\n",
    "    \n",
    "    # Binary search\n",
    "    left = 1\n",
    "    right = x\n",
    "    \n",
    "    while left <=right:\n",
    "        mid = (left + right)//2\n",
    "        # Check if mid*mid equals x \n",
    "        if mid * mid == x:\n",
    "            return mid\n",
    "        # If mid*mid is less than x, search in the right half\n",
    "        elif mid * mid < x:\n",
    "            left = mid + 1\n",
    "            ans = mid\n",
    "        # If mid*mid is greater than x, search in the left half    \n",
    "        else:\n",
    "            right = mid - 1\n",
    "    return ans"
   ]
  },
  {
   "cell_type": "code",
   "execution_count": 2,
   "id": "c6dfa303",
   "metadata": {},
   "outputs": [
    {
     "data": {
      "text/plain": [
       "1"
      ]
     },
     "execution_count": 2,
     "metadata": {},
     "output_type": "execute_result"
    }
   ],
   "source": [
    "sqrt(3)"
   ]
  },
  {
   "cell_type": "code",
   "execution_count": null,
   "id": "f2025e14",
   "metadata": {},
   "outputs": [],
   "source": []
  }
 ],
 "metadata": {
  "kernelspec": {
   "display_name": "Python 3 (ipykernel)",
   "language": "python",
   "name": "python3"
  },
  "language_info": {
   "codemirror_mode": {
    "name": "ipython",
    "version": 3
   },
   "file_extension": ".py",
   "mimetype": "text/x-python",
   "name": "python",
   "nbconvert_exporter": "python",
   "pygments_lexer": "ipython3",
   "version": "3.9.12"
  }
 },
 "nbformat": 4,
 "nbformat_minor": 5
}
