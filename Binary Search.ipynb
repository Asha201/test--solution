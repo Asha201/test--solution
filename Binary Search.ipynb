{
 "cells": [
  {
   "cell_type": "markdown",
   "id": "d2922ccf",
   "metadata": {},
   "source": [
    "Given a non-negative integer x, return the square root of x rounded down to the nearest integer. The returned integer should be non-negative as well. You must not use any built-in exponent function or operator. "
   ]
  },
  {
   "cell_type": "code",
   "execution_count": 1,
   "id": "e31ff09a",
   "metadata": {},
   "outputs": [],
   "source": [
    "def sqrt(x):\n",
    "    # Base cases\n",
    "    if x == 0 or x ==1:\n",
    "        return x\n",
    "    \n",
    "    # Binary search\n",
    "    left = 1\n",
    "    right = x\n",
    "    \n",
    "    while left <=right:\n",
    "        mid = (left + right)//2\n",
    "        # Check if mid*mid equals x \n",
    "        if mid * mid == x:\n",
    "            return mid\n",
    "        # If mid*mid is less than x, search in the right half\n",
    "        elif mid * mid < x:\n",
    "            left = mid + 1\n",
    "            ans = mid\n",
    "        # If mid*mid is greater than x, search in the left half    \n",
    "        else:\n",
    "            right = mid - 1\n",
    "    return ans"
   ]
  },
  {
   "cell_type": "code",
   "execution_count": 2,
   "id": "c60ed136",
   "metadata": {},
   "outputs": [
    {
     "data": {
      "text/plain": [
       "1"
      ]
     },
     "execution_count": 2,
     "metadata": {},
     "output_type": "execute_result"
    }
   ],
   "source": [
    "sqrt(3)"
   ]
  },
  {
   "cell_type": "markdown",
   "id": "4933521e",
   "metadata": {},
   "source": [
    "You are given two non-empty linked lists representing two non-negative integers. The digits are stored in reverse order, and each of their nodes contains a single digit. Add the two numbers and return the sum as a linked list."
   ]
  },
  {
   "cell_type": "code",
   "execution_count": 6,
   "id": "2f066c1e",
   "metadata": {},
   "outputs": [],
   "source": [
    "class ListNode:\n",
    "    def __init__(self, val=0, next=None):\n",
    "        self.val = val\n",
    "        self.next = next\n",
    "\n",
    "def addTwoNumbers(l1, l2):\n",
    "    dummy = ListNode(0)  # Dummy node to keep track of the head of the resulting linked list\n",
    "    current = dummy  # Pointer to the current node in the resulting linked list\n",
    "    carry = 0  # Variable to store the carry\n",
    "    \n",
    "    while l1 or l2 or carry:\n",
    "        # Get the values of the current nodes or 0 if either of the lists has reached the end\n",
    "        val1 = l1.val if l1 else 0\n",
    "        val2 = l2.val if l2 else 0\n",
    "        \n",
    "        # Calculate the sum of the digits and the carry\n",
    "        total = val1 + val2 + carry\n",
    "        digit = total % 10\n",
    "        carry = total // 10\n",
    "        \n",
    "        # Create a new node with the calculated digit and append it to the resulting linked list\n",
    "        current.next = ListNode(digit)\n",
    "        current = current.next\n",
    "        \n",
    "        # Move to the next nodes in the input linked lists if they are not None\n",
    "        l1 = l1.next if l1 else None\n",
    "        l2 = l2.next if l2 else None\n",
    "    \n",
    "    return dummy.next  # Return the head of the resulting linked list\n"
   ]
  },
  {
   "cell_type": "code",
   "execution_count": 7,
   "id": "0847349a",
   "metadata": {},
   "outputs": [],
   "source": [
    "# Create the first linked list: 2 -> 4 -> 3\n",
    "l1 = ListNode(2)\n",
    "l1.next = ListNode(4)\n",
    "l1.next.next = ListNode(3)\n",
    "\n",
    "# Create the second linked list: 5 -> 6 -> 4\n",
    "l2 = ListNode(5)\n",
    "l2.next = ListNode(6)\n",
    "l2.next.next = ListNode(4)\n",
    "\n",
    "# Call the addTwoNumbers function\n",
    "result = addTwoNumbers(l1, l2)\n"
   ]
  },
  {
   "cell_type": "code",
   "execution_count": null,
   "id": "b3a54388",
   "metadata": {},
   "outputs": [],
   "source": []
  }
 ],
 "metadata": {
  "kernelspec": {
   "display_name": "Python 3 (ipykernel)",
   "language": "python",
   "name": "python3"
  },
  "language_info": {
   "codemirror_mode": {
    "name": "ipython",
    "version": 3
   },
   "file_extension": ".py",
   "mimetype": "text/x-python",
   "name": "python",
   "nbconvert_exporter": "python",
   "pygments_lexer": "ipython3",
   "version": "3.9.12"
  }
 },
 "nbformat": 4,
 "nbformat_minor": 5
}
